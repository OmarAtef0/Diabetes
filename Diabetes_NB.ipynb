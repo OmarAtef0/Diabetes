{
 "cells": [
  {
   "cell_type": "markdown",
   "metadata": {},
   "source": [
    "## Introduction \n",
    "* Diabetes is a chronic (long-lasting) health condition that affects how your body turns food into energy. \n",
    "* Most of the food you eat is broken down into sugar (also called glucose) and released into your bloodstream.\n",
    "\n",
    "### Dataset Informations\n",
    "* **Name:** [Pima Indians Diabetes Database](https://www.kaggle.com/uciml/pima-indians-diabetes-database)\n",
    "* **Feautres:** 9 clinical features for prediction \n"
   ]
  },
  {
   "cell_type": "markdown",
   "metadata": {},
   "source": [
    "## Libraries"
   ]
  },
  {
   "cell_type": "code",
   "execution_count": 1,
   "metadata": {},
   "outputs": [],
   "source": [
    "import numpy as np\n",
    "import pandas as pd\n",
    "import matplotlib.pyplot as plt\n",
    "import seaborn as sns\n",
    "from scipy import stats\n",
    "from sklearn.model_selection import train_test_split\n",
    "from sklearn.naive_bayes import GaussianNB\n",
    "from sklearn.metrics import accuracy_score\n",
    "from sklearn.metrics import precision_score\n",
    "from sklearn.metrics import recall_score\n",
    "from sklearn.metrics import confusion_matrix\n",
    "sns.set_style(\"darkgrid\")"
   ]
  },
  {
   "cell_type": "markdown",
   "metadata": {},
   "source": [
    "<a id =\"1\"></a><br>\n",
    "# Read and Examination Dataset"
   ]
  },
  {
   "cell_type": "code",
   "execution_count": 2,
   "metadata": {},
   "outputs": [
    {
     "data": {
      "text/html": [
       "<div>\n",
       "<style scoped>\n",
       "    .dataframe tbody tr th:only-of-type {\n",
       "        vertical-align: middle;\n",
       "    }\n",
       "\n",
       "    .dataframe tbody tr th {\n",
       "        vertical-align: top;\n",
       "    }\n",
       "\n",
       "    .dataframe thead th {\n",
       "        text-align: right;\n",
       "    }\n",
       "</style>\n",
       "<table border=\"1\" class=\"dataframe\">\n",
       "  <thead>\n",
       "    <tr style=\"text-align: right;\">\n",
       "      <th></th>\n",
       "      <th>Pregnancies</th>\n",
       "      <th>Glucose</th>\n",
       "      <th>BloodPressure</th>\n",
       "      <th>SkinThickness</th>\n",
       "      <th>Insulin</th>\n",
       "      <th>BMI</th>\n",
       "      <th>DiabetesPedigreeFunction</th>\n",
       "      <th>Age</th>\n",
       "      <th>Outcome</th>\n",
       "    </tr>\n",
       "  </thead>\n",
       "  <tbody>\n",
       "    <tr>\n",
       "      <th>0</th>\n",
       "      <td>6</td>\n",
       "      <td>148</td>\n",
       "      <td>72</td>\n",
       "      <td>35</td>\n",
       "      <td>0</td>\n",
       "      <td>33.6</td>\n",
       "      <td>0.627</td>\n",
       "      <td>50</td>\n",
       "      <td>1</td>\n",
       "    </tr>\n",
       "    <tr>\n",
       "      <th>1</th>\n",
       "      <td>1</td>\n",
       "      <td>85</td>\n",
       "      <td>66</td>\n",
       "      <td>29</td>\n",
       "      <td>0</td>\n",
       "      <td>26.6</td>\n",
       "      <td>0.351</td>\n",
       "      <td>31</td>\n",
       "      <td>0</td>\n",
       "    </tr>\n",
       "    <tr>\n",
       "      <th>2</th>\n",
       "      <td>8</td>\n",
       "      <td>183</td>\n",
       "      <td>64</td>\n",
       "      <td>0</td>\n",
       "      <td>0</td>\n",
       "      <td>23.3</td>\n",
       "      <td>0.672</td>\n",
       "      <td>32</td>\n",
       "      <td>1</td>\n",
       "    </tr>\n",
       "    <tr>\n",
       "      <th>3</th>\n",
       "      <td>1</td>\n",
       "      <td>89</td>\n",
       "      <td>66</td>\n",
       "      <td>23</td>\n",
       "      <td>94</td>\n",
       "      <td>28.1</td>\n",
       "      <td>0.167</td>\n",
       "      <td>21</td>\n",
       "      <td>0</td>\n",
       "    </tr>\n",
       "    <tr>\n",
       "      <th>4</th>\n",
       "      <td>0</td>\n",
       "      <td>137</td>\n",
       "      <td>40</td>\n",
       "      <td>35</td>\n",
       "      <td>168</td>\n",
       "      <td>43.1</td>\n",
       "      <td>2.288</td>\n",
       "      <td>33</td>\n",
       "      <td>1</td>\n",
       "    </tr>\n",
       "  </tbody>\n",
       "</table>\n",
       "</div>"
      ],
      "text/plain": [
       "   Pregnancies  Glucose  BloodPressure  SkinThickness  Insulin   BMI  \\\n",
       "0            6      148             72             35        0  33.6   \n",
       "1            1       85             66             29        0  26.6   \n",
       "2            8      183             64              0        0  23.3   \n",
       "3            1       89             66             23       94  28.1   \n",
       "4            0      137             40             35      168  43.1   \n",
       "\n",
       "   DiabetesPedigreeFunction  Age  Outcome  \n",
       "0                     0.627   50        1  \n",
       "1                     0.351   31        0  \n",
       "2                     0.672   32        1  \n",
       "3                     0.167   21        0  \n",
       "4                     2.288   33        1  "
      ]
     },
     "execution_count": 2,
     "metadata": {},
     "output_type": "execute_result"
    }
   ],
   "source": [
    "data =pd.read_csv(\"https://raw.githubusercontent.com/OmarAtef0/Diabetes/main/diabetes.csv\")\n",
    "data.head()"
   ]
  },
  {
   "cell_type": "code",
   "execution_count": 3,
   "metadata": {},
   "outputs": [
    {
     "data": {
      "text/html": [
       "<div>\n",
       "<style scoped>\n",
       "    .dataframe tbody tr th:only-of-type {\n",
       "        vertical-align: middle;\n",
       "    }\n",
       "\n",
       "    .dataframe tbody tr th {\n",
       "        vertical-align: top;\n",
       "    }\n",
       "\n",
       "    .dataframe thead th {\n",
       "        text-align: right;\n",
       "    }\n",
       "</style>\n",
       "<table border=\"1\" class=\"dataframe\">\n",
       "  <thead>\n",
       "    <tr style=\"text-align: right;\">\n",
       "      <th></th>\n",
       "      <th>Pregnancies</th>\n",
       "      <th>Glucose</th>\n",
       "      <th>BloodPressure</th>\n",
       "      <th>SkinThickness</th>\n",
       "      <th>Insulin</th>\n",
       "      <th>BMI</th>\n",
       "      <th>DiabetesPedigreeFunction</th>\n",
       "      <th>Age</th>\n",
       "      <th>Outcome</th>\n",
       "    </tr>\n",
       "  </thead>\n",
       "  <tbody>\n",
       "    <tr>\n",
       "      <th>763</th>\n",
       "      <td>10</td>\n",
       "      <td>101</td>\n",
       "      <td>76</td>\n",
       "      <td>48</td>\n",
       "      <td>180</td>\n",
       "      <td>32.9</td>\n",
       "      <td>0.171</td>\n",
       "      <td>63</td>\n",
       "      <td>0</td>\n",
       "    </tr>\n",
       "    <tr>\n",
       "      <th>764</th>\n",
       "      <td>2</td>\n",
       "      <td>122</td>\n",
       "      <td>70</td>\n",
       "      <td>27</td>\n",
       "      <td>0</td>\n",
       "      <td>36.8</td>\n",
       "      <td>0.340</td>\n",
       "      <td>27</td>\n",
       "      <td>0</td>\n",
       "    </tr>\n",
       "    <tr>\n",
       "      <th>765</th>\n",
       "      <td>5</td>\n",
       "      <td>121</td>\n",
       "      <td>72</td>\n",
       "      <td>23</td>\n",
       "      <td>112</td>\n",
       "      <td>26.2</td>\n",
       "      <td>0.245</td>\n",
       "      <td>30</td>\n",
       "      <td>0</td>\n",
       "    </tr>\n",
       "    <tr>\n",
       "      <th>766</th>\n",
       "      <td>1</td>\n",
       "      <td>126</td>\n",
       "      <td>60</td>\n",
       "      <td>0</td>\n",
       "      <td>0</td>\n",
       "      <td>30.1</td>\n",
       "      <td>0.349</td>\n",
       "      <td>47</td>\n",
       "      <td>1</td>\n",
       "    </tr>\n",
       "    <tr>\n",
       "      <th>767</th>\n",
       "      <td>1</td>\n",
       "      <td>93</td>\n",
       "      <td>70</td>\n",
       "      <td>31</td>\n",
       "      <td>0</td>\n",
       "      <td>30.4</td>\n",
       "      <td>0.315</td>\n",
       "      <td>23</td>\n",
       "      <td>0</td>\n",
       "    </tr>\n",
       "  </tbody>\n",
       "</table>\n",
       "</div>"
      ],
      "text/plain": [
       "     Pregnancies  Glucose  BloodPressure  SkinThickness  Insulin   BMI  \\\n",
       "763           10      101             76             48      180  32.9   \n",
       "764            2      122             70             27        0  36.8   \n",
       "765            5      121             72             23      112  26.2   \n",
       "766            1      126             60              0        0  30.1   \n",
       "767            1       93             70             31        0  30.4   \n",
       "\n",
       "     DiabetesPedigreeFunction  Age  Outcome  \n",
       "763                     0.171   63        0  \n",
       "764                     0.340   27        0  \n",
       "765                     0.245   30        0  \n",
       "766                     0.349   47        1  \n",
       "767                     0.315   23        0  "
      ]
     },
     "execution_count": 3,
     "metadata": {},
     "output_type": "execute_result"
    }
   ],
   "source": [
    "data.tail()"
   ]
  },
  {
   "cell_type": "markdown",
   "metadata": {},
   "source": [
    "# Box Plot"
   ]
  },
  {
   "cell_type": "code",
   "execution_count": 14,
   "metadata": {},
   "outputs": [
    {
     "data": {
      "text/plain": [
       "<Figure size 400x400 with 0 Axes>"
      ]
     },
     "metadata": {},
     "output_type": "display_data"
    },
    {
     "data": {
      "image/png": "[encoded data removed]",
      "text/plain": [
       "<Figure size 640x480 with 1 Axes>"
      ]
     },
     "metadata": {},
     "output_type": "display_data"
    },
    {
     "data": {
      "image/png": "[encoded data removed]",
      "text/plain": [
       "<Figure size 640x480 with 1 Axes>"
      ]
     },
     "metadata": {},
     "output_type": "display_data"
    },
    {
     "data": {
      "image/png": "[encoded data removed]",
      "text/plain": [
       "<Figure size 640x480 with 1 Axes>"
      ]
     },
     "metadata": {},
     "output_type": "display_data"
    },
    {
     "data": {
      "image/png": "[encoded data removed]",
      "text/plain": [
       "<Figure size 640x480 with 1 Axes>"
      ]
     },
     "metadata": {},
     "output_type": "display_data"
    },
    {
     "data": {
      "image/png": "[encoded data removed]",
      "text/plain": [
       "<Figure size 640x480 with 1 Axes>"
      ]
     },
     "metadata": {},
     "output_type": "display_data"
    },
    {
     "data": {
      "image/png": "[encoded data removed]",
      "text/plain": [
       "<Figure size 640x480 with 1 Axes>"
      ]
     },
     "metadata": {},
     "output_type": "display_data"
    },
    {
     "data": {
      "image/png": "[encoded data removed]",
      "text/plain": [
       "<Figure size 640x480 with 1 Axes>"
      ]
     },
     "metadata": {},
     "output_type": "display_data"
    },
    {
     "data": {
      "image/png": "[encoded data removed]",
      "text/plain": [
       "<Figure size 640x480 with 1 Axes>"
      ]
     },
     "metadata": {},
     "output_type": "display_data"
    }
   ],
   "source": [
    "# Set the style and size of the plots\n",
    "sns.set(style=\"whitegrid\")\n",
    "plt.figure(figsize=(4, 4))\n",
    "\n",
    "# Loop through each column in the DataFrame\n",
    "for col in data.columns[:len(data.columns)-1]:\n",
    "    plt.figure()\n",
    "    sns.boxplot(x=data[col])\n",
    "    plt.title(f'Box Plot of {col}')\n",
    "    plt.show()"
   ]
  },
  {
   "cell_type": "markdown",
   "metadata": {},
   "source": [
    "# Exploratory Data Analysis"
   ]
  },
  {
   "cell_type": "code",
   "execution_count": 4,
   "metadata": {},
   "outputs": [
    {
     "name": "stdout",
     "output_type": "stream",
     "text": [
      "There are 0 categorical variables\n",
      "\n",
      "The categorical variables are : []\n"
     ]
    }
   ],
   "source": [
    "# find categorical variables\n",
    "# Categorical variables have data type object. Numerical variables have data type int64.\n",
    "\n",
    "categorical = [i for i in data.columns if data[i].dtype == 'O']\n",
    "\n",
    "print('There are {} categorical variables\\n'.format(len(categorical)))\n",
    "\n",
    "print('The categorical variables are :', categorical)"
   ]
  },
  {
   "cell_type": "code",
   "execution_count": 5,
   "metadata": {},
   "outputs": [
    {
     "name": "stdout",
     "output_type": "stream",
     "text": [
      "There are 9 quantitative variables\n",
      "\n",
      "The quantitative variables are : ['Pregnancies', 'Glucose', 'BloodPressure', 'SkinThickness', 'Insulin', 'BMI', 'DiabetesPedigreeFunction', 'Age', 'Outcome']\n"
     ]
    }
   ],
   "source": [
    "# find quantitative variables\n",
    "\n",
    "numerical = [i for i in data.columns if data[i].dtype != 'O']\n",
    "\n",
    "print('There are {} quantitative variables\\n'.format(len(numerical)))\n",
    "\n",
    "print('The quantitative variables are :', numerical)"
   ]
  },
  {
   "cell_type": "markdown",
   "metadata": {},
   "source": [
    "# Replacing zeros in all features except pregnancies with null"
   ]
  },
  {
   "cell_type": "code",
   "execution_count": 6,
   "metadata": {
    "scrolled": true
   },
   "outputs": [
    {
     "data": {
      "text/html": [
       "<div>\n",
       "<style scoped>\n",
       "    .dataframe tbody tr th:only-of-type {\n",
       "        vertical-align: middle;\n",
       "    }\n",
       "\n",
       "    .dataframe tbody tr th {\n",
       "        vertical-align: top;\n",
       "    }\n",
       "\n",
       "    .dataframe thead th {\n",
       "        text-align: right;\n",
       "    }\n",
       "</style>\n",
       "<table border=\"1\" class=\"dataframe\">\n",
       "  <thead>\n",
       "    <tr style=\"text-align: right;\">\n",
       "      <th></th>\n",
       "      <th>Pregnancies</th>\n",
       "      <th>Glucose</th>\n",
       "      <th>BloodPressure</th>\n",
       "      <th>SkinThickness</th>\n",
       "      <th>Insulin</th>\n",
       "      <th>BMI</th>\n",
       "      <th>DiabetesPedigreeFunction</th>\n",
       "      <th>Age</th>\n",
       "      <th>Outcome</th>\n",
       "    </tr>\n",
       "  </thead>\n",
       "  <tbody>\n",
       "    <tr>\n",
       "      <th>0</th>\n",
       "      <td>6</td>\n",
       "      <td>148.0</td>\n",
       "      <td>72.0</td>\n",
       "      <td>35.0</td>\n",
       "      <td>NaN</td>\n",
       "      <td>33.6</td>\n",
       "      <td>0.627</td>\n",
       "      <td>50.0</td>\n",
       "      <td>1</td>\n",
       "    </tr>\n",
       "    <tr>\n",
       "      <th>1</th>\n",
       "      <td>1</td>\n",
       "      <td>85.0</td>\n",
       "      <td>66.0</td>\n",
       "      <td>29.0</td>\n",
       "      <td>NaN</td>\n",
       "      <td>26.6</td>\n",
       "      <td>0.351</td>\n",
       "      <td>31.0</td>\n",
       "      <td>0</td>\n",
       "    </tr>\n",
       "    <tr>\n",
       "      <th>2</th>\n",
       "      <td>8</td>\n",
       "      <td>183.0</td>\n",
       "      <td>64.0</td>\n",
       "      <td>NaN</td>\n",
       "      <td>NaN</td>\n",
       "      <td>23.3</td>\n",
       "      <td>0.672</td>\n",
       "      <td>32.0</td>\n",
       "      <td>1</td>\n",
       "    </tr>\n",
       "    <tr>\n",
       "      <th>3</th>\n",
       "      <td>1</td>\n",
       "      <td>89.0</td>\n",
       "      <td>66.0</td>\n",
       "      <td>23.0</td>\n",
       "      <td>94.0</td>\n",
       "      <td>28.1</td>\n",
       "      <td>0.167</td>\n",
       "      <td>21.0</td>\n",
       "      <td>0</td>\n",
       "    </tr>\n",
       "    <tr>\n",
       "      <th>4</th>\n",
       "      <td>0</td>\n",
       "      <td>137.0</td>\n",
       "      <td>40.0</td>\n",
       "      <td>35.0</td>\n",
       "      <td>168.0</td>\n",
       "      <td>43.1</td>\n",
       "      <td>2.288</td>\n",
       "      <td>33.0</td>\n",
       "      <td>1</td>\n",
       "    </tr>\n",
       "  </tbody>\n",
       "</table>\n",
       "</div>"
      ],
      "text/plain": [
       "   Pregnancies  Glucose  BloodPressure  SkinThickness  Insulin   BMI  \\\n",
       "0            6    148.0           72.0           35.0      NaN  33.6   \n",
       "1            1     85.0           66.0           29.0      NaN  26.6   \n",
       "2            8    183.0           64.0            NaN      NaN  23.3   \n",
       "3            1     89.0           66.0           23.0     94.0  28.1   \n",
       "4            0    137.0           40.0           35.0    168.0  43.1   \n",
       "\n",
       "   DiabetesPedigreeFunction   Age  Outcome  \n",
       "0                     0.627  50.0        1  \n",
       "1                     0.351  31.0        0  \n",
       "2                     0.672  32.0        1  \n",
       "3                     0.167  21.0        0  \n",
       "4                     2.288  33.0        1  "
      ]
     },
     "execution_count": 6,
     "metadata": {},
     "output_type": "execute_result"
    }
   ],
   "source": [
    "for col in data.columns[1:len(data.columns)-1]:\n",
    "    # Replace 0 with NaN values using NumPy's where() function\n",
    "    data[col] = np.where(data[col] == 0, np.nan, data[col])\n",
    "data.head()"
   ]
  },
  {
   "cell_type": "markdown",
   "metadata": {},
   "source": [
    "# Checking Null Values"
   ]
  },
  {
   "cell_type": "code",
   "execution_count": 7,
   "metadata": {},
   "outputs": [
    {
     "data": {
      "text/plain": [
       "Pregnancies                   0\n",
       "Glucose                       5\n",
       "BloodPressure                35\n",
       "SkinThickness               227\n",
       "Insulin                     374\n",
       "BMI                          11\n",
       "DiabetesPedigreeFunction      0\n",
       "Age                           0\n",
       "Outcome                       0\n",
       "dtype: int64"
      ]
     },
     "execution_count": 7,
     "metadata": {},
     "output_type": "execute_result"
    }
   ],
   "source": [
    "data.isnull().sum()"
   ]
  },
  {
   "cell_type": "markdown",
   "metadata": {},
   "source": [
    "# Replacing null values with mean to avoid data loss"
   ]
  },
  {
   "cell_type": "code",
   "execution_count": 8,
   "metadata": {},
   "outputs": [
    {
     "data": {
      "text/html": [
       "<div>\n",
       "<style scoped>\n",
       "    .dataframe tbody tr th:only-of-type {\n",
       "        vertical-align: middle;\n",
       "    }\n",
       "\n",
       "    .dataframe tbody tr th {\n",
       "        vertical-align: top;\n",
       "    }\n",
       "\n",
       "    .dataframe thead th {\n",
       "        text-align: right;\n",
       "    }\n",
       "</style>\n",
       "<table border=\"1\" class=\"dataframe\">\n",
       "  <thead>\n",
       "    <tr style=\"text-align: right;\">\n",
       "      <th></th>\n",
       "      <th>Pregnancies</th>\n",
       "      <th>Glucose</th>\n",
       "      <th>BloodPressure</th>\n",
       "      <th>SkinThickness</th>\n",
       "      <th>Insulin</th>\n",
       "      <th>BMI</th>\n",
       "      <th>DiabetesPedigreeFunction</th>\n",
       "      <th>Age</th>\n",
       "      <th>Outcome</th>\n",
       "    </tr>\n",
       "  </thead>\n",
       "  <tbody>\n",
       "    <tr>\n",
       "      <th>0</th>\n",
       "      <td>6</td>\n",
       "      <td>148.0</td>\n",
       "      <td>72.0</td>\n",
       "      <td>35.00000</td>\n",
       "      <td>155.548223</td>\n",
       "      <td>33.6</td>\n",
       "      <td>0.627</td>\n",
       "      <td>50.0</td>\n",
       "      <td>1</td>\n",
       "    </tr>\n",
       "    <tr>\n",
       "      <th>1</th>\n",
       "      <td>1</td>\n",
       "      <td>85.0</td>\n",
       "      <td>66.0</td>\n",
       "      <td>29.00000</td>\n",
       "      <td>155.548223</td>\n",
       "      <td>26.6</td>\n",
       "      <td>0.351</td>\n",
       "      <td>31.0</td>\n",
       "      <td>0</td>\n",
       "    </tr>\n",
       "    <tr>\n",
       "      <th>2</th>\n",
       "      <td>8</td>\n",
       "      <td>183.0</td>\n",
       "      <td>64.0</td>\n",
       "      <td>29.15342</td>\n",
       "      <td>155.548223</td>\n",
       "      <td>23.3</td>\n",
       "      <td>0.672</td>\n",
       "      <td>32.0</td>\n",
       "      <td>1</td>\n",
       "    </tr>\n",
       "    <tr>\n",
       "      <th>3</th>\n",
       "      <td>1</td>\n",
       "      <td>89.0</td>\n",
       "      <td>66.0</td>\n",
       "      <td>23.00000</td>\n",
       "      <td>94.000000</td>\n",
       "      <td>28.1</td>\n",
       "      <td>0.167</td>\n",
       "      <td>21.0</td>\n",
       "      <td>0</td>\n",
       "    </tr>\n",
       "    <tr>\n",
       "      <th>4</th>\n",
       "      <td>0</td>\n",
       "      <td>137.0</td>\n",
       "      <td>40.0</td>\n",
       "      <td>35.00000</td>\n",
       "      <td>168.000000</td>\n",
       "      <td>43.1</td>\n",
       "      <td>2.288</td>\n",
       "      <td>33.0</td>\n",
       "      <td>1</td>\n",
       "    </tr>\n",
       "  </tbody>\n",
       "</table>\n",
       "</div>"
      ],
      "text/plain": [
       "   Pregnancies  Glucose  BloodPressure  SkinThickness     Insulin   BMI  \\\n",
       "0            6    148.0           72.0       35.00000  155.548223  33.6   \n",
       "1            1     85.0           66.0       29.00000  155.548223  26.6   \n",
       "2            8    183.0           64.0       29.15342  155.548223  23.3   \n",
       "3            1     89.0           66.0       23.00000   94.000000  28.1   \n",
       "4            0    137.0           40.0       35.00000  168.000000  43.1   \n",
       "\n",
       "   DiabetesPedigreeFunction   Age  Outcome  \n",
       "0                     0.627  50.0        1  \n",
       "1                     0.351  31.0        0  \n",
       "2                     0.672  32.0        1  \n",
       "3                     0.167  21.0        0  \n",
       "4                     2.288  33.0        1  "
      ]
     },
     "execution_count": 8,
     "metadata": {},
     "output_type": "execute_result"
    }
   ],
   "source": [
    "for col in data.columns[:len(data.columns)-1]:\n",
    "    col_mean = data[col].mean()\n",
    "#     print(f\"{col}  {col_mean}\")\n",
    "    data[col].fillna(col_mean, inplace=True)\n",
    "\n",
    "data.head()"
   ]
  },
  {
   "cell_type": "markdown",
   "metadata": {},
   "source": [
    "# Identifying Outliers\n",
    "to deal with outliers, there are two options depend on the distribution of data:\n",
    "- <span style=\"color:blue;\">1) Normal Distribution</span>: outliers are the points which have values that fall more than three standard deviations from the mean\n",
    "- <span style=\"color:blue;\">2) Other Distribution</span>: the outlier data points are the ones falling below Q1–1.5 IQR or above Q3 + 1.5 IQR. The Q1 is the 25th percentile and Q3 is the 75th percentile of the dataset, and IQR represents the interquartile range calculated by Q3 minus Q1 (Q3–Q1)\n",
    "\n",
    "<b>so</b> we need to know each feature distribution to select the appropriate method of finding the outliers."
   ]
  },
  {
   "cell_type": "markdown",
   "metadata": {},
   "source": [
    "## Check for normal distribution on all features (Shapiro-Wilk test):"
   ]
  },
  {
   "cell_type": "code",
   "execution_count": 9,
   "metadata": {},
   "outputs": [
    {
     "name": "stdout",
     "output_type": "stream",
     "text": [
      "Pregnancies is not normally distributed\n",
      "\n",
      "Glucose is not normally distributed\n",
      "\n",
      "BloodPressure is not normally distributed\n",
      "\n",
      "SkinThickness is not normally distributed\n",
      "\n",
      "Insulin is not normally distributed\n",
      "\n",
      "BMI is not normally distributed\n",
      "\n",
      "DiabetesPedigreeFunction is not normally distributed\n",
      "\n",
      "Age is not normally distributed\n",
      "\n"
     ]
    }
   ],
   "source": [
    "# Perform Shapiro-Wilk test for normality on each feature\n",
    "for col in data.columns[:len(data.columns)-1]:\n",
    "    stat, p = stats.shapiro(data[col])\n",
    "    alpha = 0.05\n",
    "    if p > alpha:\n",
    "        print(f'{col} is normally distributed\\n')\n",
    "    else:\n",
    "        print(f'{col} is not normally distributed\\n')"
   ]
  },
  {
   "cell_type": "markdown",
   "metadata": {},
   "source": [
    "# Checking for other distributions"
   ]
  },
  {
   "cell_type": "code",
   "execution_count": 18,
   "metadata": {},
   "outputs": [
    {
     "name": "stdout",
     "output_type": "stream",
     "text": [
      "Goodness-of-fit tests for Pregnancies:\n",
      "No suitable distribution found for Pregnancies.\n",
      "\n",
      "Goodness-of-fit tests for Glucose:\n",
      "Glucose likely follows a Gamma distribution.\n",
      "\n",
      "Goodness-of-fit tests for BloodPressure:\n",
      "No suitable distribution found for BloodPressure.\n",
      "\n",
      "Goodness-of-fit tests for SkinThickness:\n",
      "No suitable distribution found for SkinThickness.\n",
      "\n",
      "Goodness-of-fit tests for Insulin:\n",
      "No suitable distribution found for Insulin.\n",
      "\n",
      "Goodness-of-fit tests for BMI:\n",
      "BMI likely follows a Lognorm distribution.\n",
      "\n",
      "Goodness-of-fit tests for DiabetesPedigreeFunction:\n",
      "DiabetesPedigreeFunction likely follows a Lognorm distribution.\n",
      "\n",
      "Goodness-of-fit tests for Age:\n",
      "No suitable distribution found for Age.\n",
      "\n"
     ]
    }
   ],
   "source": [
    "# Define a list of common distribution types\n",
    "distributions = {\n",
    "    'expon': stats.expon,\n",
    "    'uniform': stats.uniform,\n",
    "    'gamma': stats.gamma,\n",
    "    'lognorm': stats.lognorm\n",
    "}\n",
    "\n",
    "alpha = 0.05\n",
    "\n",
    "# Loop through each column in the DataFrame\n",
    "for col in data.columns[:len(data.columns)-1]:\n",
    "    print(f'Goodness-of-fit tests for {col}:')\n",
    "    best_fit = None\n",
    "    best_p_value = 0\n",
    "    \n",
    "    for dist_name, dist in distributions.items():\n",
    "        # Fit the distribution to the data\n",
    "        params = dist.fit(data[col])\n",
    "\n",
    "        # Calculate the K-S statistic and p-value\n",
    "        stat, p = stats.kstest(data[col], dist_name, args=params)\n",
    "\n",
    "        # Update the best fit distribution\n",
    "        if p > best_p_value:\n",
    "            best_p_value = p\n",
    "            best_fit = dist_name\n",
    "\n",
    "        # Print the goodness-of-fit test results\n",
    "        # print(f'{dist_name.capitalize()}: statistic={stat:.3f}, p-value={p:.3f}')\n",
    "\n",
    "    # Compare the p-value with the significance level to determine the best fit distribution\n",
    "    if best_p_value > alpha:\n",
    "        print(f'{col} likely follows a {best_fit.capitalize()} distribution.\\n')\n",
    "    else:\n",
    "        print(f'No suitable distribution found for {col}.\\n')"
   ]
  },
  {
   "cell_type": "markdown",
   "metadata": {},
   "source": [
    "# Detection & Removal of Outliers using way (2) (Interquartile range)"
   ]
  },
  {
   "cell_type": "code",
   "execution_count": null,
   "metadata": {},
   "outputs": [],
   "source": [
    "def detect_bounds(data):\n",
    "    Q1,Q3 = np.percentile(data,[25,75])\n",
    "    iqr_value = Q3-Q1\n",
    "    lower_bound = Q1-(1.5*iqr_value)\n",
    "    upper_bound = Q3+(1.5*iqr_value)\n",
    "    return (lower_bound,upper_bound)"
   ]
  },
  {
   "cell_type": "markdown",
   "metadata": {},
   "source": [
    "# Repeating for each feature"
   ]
  },
  {
   "cell_type": "code",
   "execution_count": null,
   "metadata": {
    "scrolled": true
   },
   "outputs": [],
   "source": [
    "# run cell one time only\n",
    "      \n",
    "for col in data.columns[:len(data.columns)-1]:\n",
    "    lower, upper = detect_bounds(data[col])\n",
    "    outliers = []\n",
    "#     print (lower, upper)\n",
    "    for i in (data[col]):\n",
    "        if (i < lower or i > upper):\n",
    "            outliers.append(i)\n",
    "#     print (outliers)\n",
    "    for i in outliers:\n",
    "        data = data[data[col] != i]"
   ]
  },
  {
   "cell_type": "markdown",
   "metadata": {},
   "source": [
    "# Data shape after removing outliers"
   ]
  },
  {
   "cell_type": "code",
   "execution_count": null,
   "metadata": {},
   "outputs": [],
   "source": [
    "data.shape"
   ]
  },
  {
   "cell_type": "markdown",
   "metadata": {},
   "source": [
    "# Describe Tha Data"
   ]
  },
  {
   "cell_type": "code",
   "execution_count": null,
   "metadata": {
    "scrolled": true
   },
   "outputs": [],
   "source": [
    "data.describe()"
   ]
  },
  {
   "cell_type": "markdown",
   "metadata": {},
   "source": [
    "# Unique values in each feature"
   ]
  },
  {
   "cell_type": "code",
   "execution_count": null,
   "metadata": {},
   "outputs": [],
   "source": [
    "data.nunique()"
   ]
  },
  {
   "cell_type": "markdown",
   "metadata": {},
   "source": [
    "# Basic Visualization"
   ]
  },
  {
   "cell_type": "code",
   "execution_count": null,
   "metadata": {},
   "outputs": [],
   "source": [
    "p = data[data.Outcome == 1]\n",
    "n = data[data.Outcome == 0]\n",
    "\n",
    "plt.figure(figsize=(4, 3))\n",
    "sns.countplot(x='Outcome',data=data)\n",
    "\n",
    "plt.title(\"Count 0 & 1\")\n",
    "plt.show()"
   ]
  },
  {
   "cell_type": "markdown",
   "metadata": {},
   "source": [
    "# Data Visualization"
   ]
  },
  {
   "cell_type": "code",
   "execution_count": null,
   "metadata": {},
   "outputs": [],
   "source": [
    "fig, axes = plt.subplots(1,4, figsize=(18,6), sharey=True)\n",
    "sns.histplot(data, ax=axes[0], x=\"Pregnancies\", kde=True, color='r')\n",
    "sns.histplot(data, ax=axes[1], x=\"Glucose\", kde=True, color='g')\n",
    "sns.histplot(data, ax=axes[2], x=\"BloodPressure\", kde=True, color='k')\n",
    "sns.histplot(data, ax=axes[3], x=\"SkinThickness\", kde=True, color='b')"
   ]
  },
  {
   "cell_type": "code",
   "execution_count": null,
   "metadata": {},
   "outputs": [],
   "source": [
    "fig, axes = plt.subplots(1,4, figsize=(18,6), sharey=True)\n",
    "sns.histplot(data, ax=axes[0], x=\"Insulin\", kde=True, color='y')\n",
    "sns.histplot(data, ax=axes[1], x=\"BMI\", kde=True, color='r')\n",
    "sns.histplot(data, ax=axes[2], x=\"DiabetesPedigreeFunction\", kde=True,color='g' )\n",
    "sns.histplot(data, ax=axes[3], x=\"Age\", kde=True, )"
   ]
  },
  {
   "cell_type": "markdown",
   "metadata": {},
   "source": [
    "# Correlation Between Features"
   ]
  },
  {
   "cell_type": "code",
   "execution_count": null,
   "metadata": {},
   "outputs": [],
   "source": [
    "corr_data = data.corr() \n",
    "sns.clustermap(corr_data,annot= True,fmt = '.2f')\n",
    "\n",
    "plt.title('Correlation Between Features')\n",
    "plt.show();"
   ]
  },
  {
   "cell_type": "markdown",
   "metadata": {},
   "source": [
    "# Plot of conditional distributions of each feature on each target class"
   ]
  },
  {
   "cell_type": "code",
   "execution_count": null,
   "metadata": {},
   "outputs": [],
   "source": [
    "# Feature names\n",
    "feature_names = data.columns[:len(data.columns)-1]\n",
    "# Define the target class labels\n",
    "target_labels = ['No Diabetes', 'Diabetes']\n",
    "\n",
    "# Group the data by the target class\n",
    "grouped_data = data.groupby(\"Outcome\")\n",
    "\n",
    "# Plot the conditional distribution of each feature for each target class\n",
    "n_features = len(feature_names)\n",
    "n_classes = len(target_labels)\n",
    "\n",
    "fig, axes = plt.subplots(n_features, n_classes, figsize=(15, 25), sharex=True)\n",
    "fig.tight_layout(pad=4.0)\n",
    "\n",
    "for idx, (class_label, group) in enumerate(grouped_data):\n",
    "    for jdx, feature in enumerate(feature_names):\n",
    "        sns.kdeplot(group[feature], ax=axes[jdx, idx], label=target_labels[class_label])\n",
    "        axes[jdx, idx].set_title(f'{feature} Distribution ({target_labels[class_label]})')\n",
    "        axes[jdx, idx].set_ylabel('Density')\n",
    "        axes[jdx, idx].set_xlabel(f'{feature} ({target_labels[class_label]})')\n",
    "\n",
    "plt.show()"
   ]
  },
  {
   "cell_type": "markdown",
   "metadata": {},
   "source": [
    "## Spliting Data"
   ]
  },
  {
   "cell_type": "code",
   "execution_count": null,
   "metadata": {},
   "outputs": [],
   "source": [
    "inputs= data.drop(\"Outcome\",axis=1)\n",
    "target=data.Outcome\n",
    "\n",
    "inputs.head(10)"
   ]
  },
  {
   "cell_type": "markdown",
   "metadata": {},
   "source": [
    "# Standardize feautures"
   ]
  },
  {
   "cell_type": "code",
   "execution_count": null,
   "metadata": {},
   "outputs": [],
   "source": [
    "from sklearn.preprocessing import StandardScaler\n",
    "#(x - x.mean()) / x.std()\n",
    "\n",
    "# Standardize the data using the mean and standard deviation\n",
    "scaler = StandardScaler()\n",
    "inputs_standardized = scaler.fit_transform(inputs)\n",
    "inputs_standardized = pd.DataFrame(inputs_standardized)\n",
    "inputs_standardized.columns = data.columns[:-1]\n",
    "\n",
    "inputs_standardized"
   ]
  },
  {
   "cell_type": "markdown",
   "metadata": {},
   "source": [
    "## Converting data type to (numpy arrays)"
   ]
  },
  {
   "cell_type": "code",
   "execution_count": null,
   "metadata": {},
   "outputs": [],
   "source": [
    "x_numpy = inputs_standardized.values\n",
    "y_numpy = target.values\n",
    "print(type(x_numpy))"
   ]
  },
  {
   "cell_type": "markdown",
   "metadata": {},
   "source": [
    "## Naive Bayes Theory\n",
    "\n",
    "Naive Bayes is a popular classification algorithm based on Bayes' theorem. It assumes that the features in a dataset are conditionally independent of each other given the class label. This assumption simplifies the calculation of the posterior probabilities.\n",
    "\n",
    "Bayes' theorem states:\n",
    "\n",
    "$$\n",
    "P(y \\mid X) = \\frac{P(X \\mid y) \\cdot P(y)}{P(X)}\n",
    "$$\n",
    "\n",
    "Where:\n",
    "\n",
    "$P(y \\mid X)$ is the posterior probability of class $y$ given the input $X$.\n",
    "$P(X \\mid y)$ is the likelihood of observing the input $X$ given class $y$.\n",
    "$P(y)$ is the prior probability of class $y$.\n",
    "$P(X)$ is the probability of observing the input $X$.\n",
    "\n",
    "In the context of Naive Bayes, we assume that the input $X$ is represented by a set of features ${x_1, x_2, \\ldots, x_n}$.\n",
    "\n",
    "The \"naive\" assumption of Naive Bayes is that the features are conditionally independent of each other given the class label. Mathematically, this can be written as:\n",
    "\n",
    "$$\n",
    "P(x_1, x_2, \\ldots, x_n \\mid y) = P(x_1 \\mid y) \\cdot P(x_2 \\mid y) \\cdots P(x_n \\mid y)\n",
    "$$\n",
    "\n",
    "By applying this assumption, we can rewrite Bayes' theorem as:\n",
    "\n",
    "$$\n",
    "P(y \\mid x_1, x_2, \\ldots, x_n) = \\frac{P(x_1 \\mid y) \\cdot P(x_2 \\mid y) \\cdots P(x_n \\mid y) \\cdot P(y)}{P(x_1, x_2, \\ldots, x_n)}\n",
    "$$"
   ]
  },
  {
   "cell_type": "markdown",
   "metadata": {},
   "source": [
    "# Naive Bayes Model"
   ]
  },
  {
   "cell_type": "code",
   "execution_count": null,
   "metadata": {},
   "outputs": [],
   "source": [
    "class NaiveBayes:\n",
    "\n",
    "  def fit(self,X,y):\n",
    "    n_samples,n_features=X.shape\n",
    "    self._classes=np.unique(y)\n",
    "    n_classes=len(self._classes)\n",
    "    \n",
    "    #initiae mean, var, prior\n",
    "    self._mean=np.zeros((n_classes,n_features),dtype=np.float64)\n",
    "    self._var=np.zeros((n_classes,n_features),dtype=np.float64)\n",
    "    self._priors=np.zeros(n_classes,dtype=np.float64)\n",
    "\n",
    "    for c in self._classes:\n",
    "      X_c= X[c==y]\n",
    "      self._mean[c,:]=X_c.mean(axis=0)\n",
    "      self._var[c,:]=X_c.var(axis=0)\n",
    "      self._priors[c]=X_c.shape[0]/float(n_samples)\n",
    "\n",
    "  def predict(self,X):\n",
    "    y_hat=[self._predict(x) for x in X]\n",
    "    return y_hat\n",
    "\n",
    "\n",
    "  def _predict(self,x):\n",
    "    posteriors=[]\n",
    "\n",
    "    for index,c in enumerate (self._classes):\n",
    "      prior=np.log(self._priors[index])\n",
    "      likelihood= np.sum(np.log(self.pdf(index,x)))\n",
    "      posteriors.append(likelihood+prior)\n",
    "\n",
    "    return self._classes[np.argmax(posteriors)] \n",
    "\n",
    "  def pdf(self,class_idx, x):\n",
    "    mean=self._mean[class_idx]\n",
    "    var=self._var[class_idx]\n",
    "    numerator=np.exp(- ((x-mean)**2) / (2 * var))\n",
    "    denominator=np.sqrt(2*np.pi*var)\n",
    "    return numerator/denominator"
   ]
  },
  {
   "cell_type": "markdown",
   "metadata": {},
   "source": [
    "## Spliting data to training data and test data"
   ]
  },
  {
   "cell_type": "code",
   "execution_count": null,
   "metadata": {},
   "outputs": [],
   "source": [
    "X_train, X_test, y_train, y_test = train_test_split(x_numpy,y_numpy,test_size=0.2,random_state=98) "
   ]
  },
  {
   "cell_type": "markdown",
   "metadata": {},
   "source": [
    "# Training the model on our Naive Bayes Classfier built from scratch"
   ]
  },
  {
   "cell_type": "code",
   "execution_count": null,
   "metadata": {},
   "outputs": [],
   "source": [
    "nb=NaiveBayes()\n",
    "nb.fit(X_train,y_train)\n",
    "predictions=nb.predict(X_test)\n",
    "cm = confusion_matrix(y_test, predictions)\n",
    "print (\"Confusion Matrix : \\n\", cm)\n",
    "print (\"The accuracy of Gaussian Naive Bayes is : \", accuracy_score(y_test, predictions)*100, \"%\")\n",
    "print(\"Precision score for Gaussian Naive Bayes is :\",precision_score(y_test, predictions,)*100, \"%\")\n",
    "print(\"Recall score for Gaussian Naive Bayes is :\",recall_score(y_test, predictions,)*100, \"%\")"
   ]
  },
  {
   "cell_type": "code",
   "execution_count": null,
   "metadata": {},
   "outputs": [],
   "source": [
    "#CM visualization\n",
    "f, ax = plt.subplots(figsize=(5,5))\n",
    "sns.heatmap(cm,annot = True, linewidths=0.5,linecolor=\"red\",fmt=\".0f\",ax=ax)\n",
    "plt.xlabel(\"Ypred\")\n",
    "plt.ylabel(\"Ytrue\")\n",
    "plt.show()"
   ]
  },
  {
   "cell_type": "code",
   "execution_count": null,
   "metadata": {},
   "outputs": [],
   "source": [
    "#                   Predicted\n",
    "#                   Negative  Positive\n",
    "# Actual Negative    TN        FP\n",
    "#        Positive    FN        TP"
   ]
  },
  {
   "cell_type": "markdown",
   "metadata": {},
   "source": [
    "# Training the model on the built-in Naive Bayes Classfier "
   ]
  },
  {
   "cell_type": "code",
   "execution_count": null,
   "metadata": {},
   "outputs": [],
   "source": [
    "from sklearn.naive_bayes import GaussianNB\n",
    "\n",
    "# Create a Gaussian Naive Bayes model object\n",
    "gnb = GaussianNB()\n",
    "\n",
    "# Train the model using the training data\n",
    "gnb.fit(X_train, y_train)\n",
    "\n",
    "# Make predictions on the test data\n",
    "y_pred = gnb.predict(X_test)\n",
    "\n",
    "# Evaluate the accuracy of the model\n",
    "cm = confusion_matrix(y_test, predictions)\n",
    "print (\"Confusion Matrix : \\n\", cm)\n",
    "print (\"The accuracy of Gaussian Naive Bayes is : \", accuracy_score(y_test, y_pred)*100, \"%\")\n",
    "print(\"Precision score for Gaussian Naive Bayes is :\",precision_score(y_test, y_pred,)*100, \"%\")\n",
    "print(\"Recall score for Gaussian Naive Bayes is :\",recall_score(y_test, y_pred,)*100, \"%\")"
   ]
  },
  {
   "cell_type": "markdown",
   "metadata": {},
   "source": [
    "Accuracy of built from scratch NB = 82.79569892473118 %\n",
    "\n",
    "Accuracy of built-in NB = 82.79569892473118 %"
   ]
  }
 ],
 "metadata": {
  "kernelspec": {
   "display_name": "Python 3 (ipykernel)",
   "language": "python",
   "name": "python3"
  },
  "language_info": {
   "codemirror_mode": {
    "name": "ipython",
    "version": 3
   },
   "file_extension": ".py",
   "mimetype": "text/x-python",
   "name": "python",
   "nbconvert_exporter": "python",
   "pygments_lexer": "ipython3",
   "version": "3.9.13"
  }
 },
 "nbformat": 4,
 "nbformat_minor": 2
}
